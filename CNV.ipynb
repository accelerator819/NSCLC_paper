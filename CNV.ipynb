{
 "cells": [
  {
   "cell_type": "code",
   "execution_count": null,
   "metadata": {},
   "outputs": [],
   "source": [
    "from glob import glob\n",
    "from matplotlib import pyplot as plt\n",
    "import cnvlib\n",
    "%matplotlib inline"
   ]
  },
  {
   "cell_type": "code",
   "execution_count": null,
   "metadata": {},
   "outputs": [],
   "source": [
    "segments = [cnvlib.read(f) for f in glob(\"/mnt/d/project_ptc/PTC-lung/CNV/WGS_withctrl_final/*.cns\")]\n",
    "ax = cnvlib.do_heatmap(segments)\n",
    "ax.set_title(\"All my samples\")\n",
    "plt.rcParams[\"font.size\"] = 9.0\n",
    "#plt.show()\n",
    "plt.savefig('/mnt/d/project_ptc/PTC-lung/CNV/WGS_withctrl_final/test.png')"
   ]
  }
 ],
 "metadata": {
  "kernelspec": {
   "display_name": "Python 3",
   "language": "python",
   "name": "python3"
  },
  "language_info": {
   "codemirror_mode": {
    "name": "ipython",
    "version": 3
   },
   "file_extension": ".py",
   "mimetype": "text/x-python",
   "name": "python",
   "nbconvert_exporter": "python",
   "pygments_lexer": "ipython3",
   "version": "3.8.5"
  }
 },
 "nbformat": 4,
 "nbformat_minor": 4
}
