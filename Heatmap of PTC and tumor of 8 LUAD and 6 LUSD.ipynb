{
 "cells": [
  {
   "cell_type": "code",
   "execution_count": null,
   "id": "transparent-worse",
   "metadata": {},
   "outputs": [],
   "source": [
    "import seaborn as sns\n",
    "import pandas as pd\n",
    "import matplotlib.pyplot as plt\n",
    "import numpy as np\n",
    "from matplotlib import colors\n",
    "from pylab import *\n",
    "from scipy.stats import zscore\n",
    "from scipy import stats"
   ]
  },
  {
   "cell_type": "code",
   "execution_count": null,
   "id": "0ab6e47f",
   "metadata": {},
   "outputs": [],
   "source": [
    "ptc_tissue = pd.read_csv('./normalizedCounts.FeatureCounts.txt',sep='\\t')\n",
    "ptc_tissue.head()"
   ]
  },
  {
   "cell_type": "code",
   "execution_count": null,
   "id": "capable-trust",
   "metadata": {},
   "outputs": [],
   "source": [
    "ptc_tissue = pd.read_csv('./log2TPMnew.ptc.tissue.txt',sep = '\\t')\n",
    "ptc_tissue.head()"
   ]
  },
  {
   "cell_type": "code",
   "execution_count": null,
   "id": "minor-excerpt",
   "metadata": {},
   "outputs": [],
   "source": [
    "ptc_tissue.columns.to_list()"
   ]
  },
  {
   "cell_type": "code",
   "execution_count": null,
   "id": "considered-checkout",
   "metadata": {},
   "outputs": [],
   "source": [
    "#### correlation using LUSC AND LUAD differntially expressed genes\n",
    "plt.figure(figsize=(10, 8))\n",
    "diff_genes = pd.read_csv('./diff_genes.txt')\n",
    "corr_mat = ptc_tissue.loc[diff_genes['GeneName'],].corr('spearman').filter(ptc).drop(ptc)\n",
    "ax = sns.heatmap(corr_mat)\n",
    "#plt.savefig('./LUAD-LUSC_differentialExpressedGenes.correlation.png',dpi=600,pad_inches=0.0)"
   ]
  }
 ],
 "metadata": {
  "kernelspec": {
   "display_name": "scanpy",
   "language": "python",
   "name": "scanpy"
  },
  "language_info": {
   "codemirror_mode": {
    "name": "ipython",
    "version": 3
   },
   "file_extension": ".py",
   "mimetype": "text/x-python",
   "name": "python",
   "nbconvert_exporter": "python",
   "pygments_lexer": "ipython3",
   "version": "3.9.7"
  }
 },
 "nbformat": 4,
 "nbformat_minor": 5
}
