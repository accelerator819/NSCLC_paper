{
 "cells": [
  {
   "cell_type": "code",
   "execution_count": 11,
   "id": "dae5f2f1",
   "metadata": {},
   "outputs": [],
   "source": [
    "import matplotlib.pyplot as plt\n",
    "import seaborn as sb\n",
    "import matplotlib\n",
    "import numpy as np\n",
    "import pandas as pd\n",
    "import scanpy as sc\n",
    "import scanpy.external as sce\n",
    "import anndata\n",
    "import glob\n",
    "from scipy import sparse\n",
    "from scipy.sparse import csr_matrix\n",
    "from scipy import sparse, io\n",
    "import scrublet as scr\n",
    "import scanorama"
   ]
  },
  {
   "cell_type": "code",
   "execution_count": 2,
   "id": "ef8c206e",
   "metadata": {},
   "outputs": [],
   "source": [
    "adata_0129 = sc.read_h5ad('../results/scanpy_qc_filtered_0129.h5ad')\n",
    "adata_7734 = sc.read_h5ad('../results/scanpy_qc_filtered_7734.h5ad')\n",
    "adata_7734 = adata_7734.raw.to_adata()\n",
    "adata_0129 = adata_0129.raw.to_adata()"
   ]
  },
  {
   "cell_type": "code",
   "execution_count": 16,
   "id": "f4a7f499",
   "metadata": {},
   "outputs": [],
   "source": [
    "norm_0129 = pd.DataFrame(np.exp(adata_0129.X.todense())-1,columns=list(adata_0129.var.index),index=list(adata_0129.obs.index)).T\n",
    "norm_7734 = pd.DataFrame(np.exp(adata_7734.X.todense())-1,columns=list(adata_7734.var.index),index=list(adata_7734.obs.index)).T"
   ]
  },
  {
   "cell_type": "code",
   "execution_count": 35,
   "id": "0ee40df2",
   "metadata": {},
   "outputs": [],
   "source": [
    "ptc = adata_0129.obs.loc[adata_0129.obs['sample_id']=='0129-ptc',]\n",
    "tumor = adata_0129.obs.loc[adata_0129.obs['sample_id']=='0129-ori',]\n",
    "norm_0129_ptc = norm_0129.iloc[:][ptc.index]\n",
    "norm_0129_tumor = norm_0129.iloc[:][tumor.index]\n",
    "ptc_meta = pd.DataFrame(data={'Cell': list(ptc.index), \n",
    "                             'cell_type': list(ptc['major_clusters'])})\n",
    "ptc_meta.set_index('Cell',inplace=True)\n",
    "tumor_meta = pd.DataFrame(data={'Cell': list(tumor.index), \n",
    "                             'cell_type': list(tumor['major_clusters'])})\n",
    "tumor_meta.set_index('Cell',inplace=True)\n",
    "norm_0129_ptc.to_csv('./norm_0129_ptc.txt',sep='\\t')\n",
    "norm_0129_tumor.to_csv('./norm_0129_tumor.txt', sep='\\t')\n",
    "ptc_meta.to_csv('./meta_0129_ptc.txt',sep='\\t')\n",
    "tumor_meta.to_csv('./meta_0129_tumor.txt',sep='\\t')"
   ]
  },
  {
   "cell_type": "code",
   "execution_count": 36,
   "id": "c54f6200",
   "metadata": {},
   "outputs": [],
   "source": [
    "ptc = adata_7734.obs.loc[adata_7734.obs['sample_id']=='7734-ptc',]\n",
    "tumor = adata_7734.obs.loc[adata_7734.obs['sample_id']=='7734-ori',]\n",
    "norm_7734_ptc = norm_7734.iloc[:][ptc.index]\n",
    "norm_7734_tumor = norm_7734.iloc[:][tumor.index]\n",
    "ptc_meta = pd.DataFrame(data={'Cell': list(ptc.index), \n",
    "                             'cell_type': list(ptc['major_clusters'])})\n",
    "ptc_meta.set_index('Cell',inplace=True)\n",
    "tumor_meta = pd.DataFrame(data={'Cell': list(tumor.index), \n",
    "                             'cell_type': list(tumor['major_clusters'])})\n",
    "tumor_meta.set_index('Cell',inplace=True)\n",
    "norm_7734_ptc.to_csv('./norm_7734_ptc.txt',sep='\\t')\n",
    "norm_7734_tumor.to_csv('./norm_7734_tumor.txt', sep='\\t')\n",
    "ptc_meta.to_csv('./meta_7734_ptc.txt',sep='\\t')\n",
    "tumor_meta.to_csv('./meta_7734_tumor.txt',sep='\\t')"
   ]
  },
  {
   "cell_type": "code",
   "execution_count": 6,
   "id": "e0be740c",
   "metadata": {},
   "outputs": [],
   "source": []
  },
  {
   "cell_type": "code",
   "execution_count": 12,
   "id": "9f57ebd7",
   "metadata": {},
   "outputs": [],
   "source": [
    "## for cellchat\n",
    "adata_0129 = sc.read_h5ad('../results/scanpy_qc_filtered_0129.h5ad')\n",
    "adata_7734 = sc.read_h5ad('../results/scanpy_qc_filtered_7734.h5ad')\n",
    "adata_7734 = adata_7734.raw.to_adata()\n",
    "adata_0129 = adata_0129.raw.to_adata()\n",
    "adata_7734 = adata_7734[adata_7734.obs['major_clusters']!='Neutrophil',]\n",
    "adata_0129 = adata_0129[adata_0129.obs['major_clusters']!='Dendritic cell',]\n",
    "norm_0129 = pd.DataFrame(adata_0129.X.todense(),columns=list(adata_0129.var.index),index=list(adata_0129.obs.index)).T\n",
    "norm_7734 = pd.DataFrame(adata_7734.X.todense(),columns=list(adata_7734.var.index),index=list(adata_7734.obs.index)).T"
   ]
  },
  {
   "cell_type": "code",
   "execution_count": 13,
   "id": "2fe6bad7",
   "metadata": {},
   "outputs": [],
   "source": [
    "ptc = adata_0129.obs.loc[adata_0129.obs['sample_id']=='0129-ptc',]\n",
    "tumor = adata_0129.obs.loc[adata_0129.obs['sample_id']=='0129-ori',]\n",
    "norm_0129_ptc = norm_0129.iloc[:][ptc.index]\n",
    "norm_0129_tumor = norm_0129.iloc[:][tumor.index]\n",
    "ptc_meta = pd.DataFrame(data={'Cell': list(ptc.index), \n",
    "                             'cell_type': list(ptc['major_clusters'])})\n",
    "ptc_meta.set_index('Cell',inplace=True)\n",
    "tumor_meta = pd.DataFrame(data={'Cell': list(tumor.index), \n",
    "                             'cell_type': list(tumor['major_clusters'])})\n",
    "tumor_meta.set_index('Cell',inplace=True)\n",
    "norm_0129_ptc.to_csv('./celltalk/norm_0129_ptc.txt',sep='\\t')\n",
    "norm_0129_tumor.to_csv('./celltalk/norm_0129_tumor.txt', sep='\\t')\n",
    "ptc_meta.to_csv('./celltalk/meta_0129_ptc.txt',sep='\\t')\n",
    "tumor_meta.to_csv('./celltalk/meta_0129_tumor.txt',sep='\\t')"
   ]
  },
  {
   "cell_type": "code",
   "execution_count": 14,
   "id": "7e7dd37e",
   "metadata": {},
   "outputs": [],
   "source": [
    "ptc = adata_7734.obs.loc[adata_7734.obs['sample_id']=='7734-ptc',]\n",
    "tumor = adata_7734.obs.loc[adata_7734.obs['sample_id']=='7734-ori',]\n",
    "norm_7734_ptc = norm_7734.iloc[:][ptc.index]\n",
    "norm_7734_tumor = norm_7734.iloc[:][tumor.index]\n",
    "ptc_meta = pd.DataFrame(data={'Cell': list(ptc.index), \n",
    "                             'cell_type': list(ptc['major_clusters'])})\n",
    "ptc_meta.set_index('Cell',inplace=True)\n",
    "tumor_meta = pd.DataFrame(data={'Cell': list(tumor.index), \n",
    "                             'cell_type': list(tumor['major_clusters'])})\n",
    "tumor_meta.set_index('Cell',inplace=True)\n",
    "norm_7734_ptc.to_csv('./celltalk/norm_7734_ptc.txt',sep='\\t')\n",
    "norm_7734_tumor.to_csv('./celltalk/norm_7734_tumor.txt', sep='\\t')\n",
    "ptc_meta.to_csv('./celltalk/meta_7734_ptc.txt',sep='\\t')\n",
    "tumor_meta.to_csv('./celltalk/meta_7734_tumor.txt',sep='\\t')"
   ]
  },
  {
   "cell_type": "code",
   "execution_count": null,
   "id": "3ea1c61b",
   "metadata": {},
   "outputs": [],
   "source": []
  }
 ],
 "metadata": {
  "kernelspec": {
   "display_name": "scanpy",
   "language": "python",
   "name": "scanpy"
  },
  "language_info": {
   "codemirror_mode": {
    "name": "ipython",
    "version": 3
   },
   "file_extension": ".py",
   "mimetype": "text/x-python",
   "name": "python",
   "nbconvert_exporter": "python",
   "pygments_lexer": "ipython3",
   "version": "3.9.7"
  }
 },
 "nbformat": 4,
 "nbformat_minor": 5
}
